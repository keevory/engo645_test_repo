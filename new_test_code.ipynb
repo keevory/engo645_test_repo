{
 "cells": [
  {
   "cell_type": "code",
   "execution_count": 1,
   "id": "9ae716ab-9170-4c3a-8941-c3524b6f4452",
   "metadata": {},
   "outputs": [
    {
     "name": "stdout",
     "output_type": "stream",
     "text": [
      "Hello ENGO 645 Students!\n"
     ]
    }
   ],
   "source": [
    "print (\"Hello ENGO 645 Students!\")"
   ]
  }
 ],
 "metadata": {
  "kernelspec": {
   "display_name": "Python 3 (ipykernel)",
   "language": "python",
   "name": "python3"
  },
  "language_info": {
   "codemirror_mode": {
    "name": "ipython",
    "version": 3
   },
   "file_extension": ".py",
   "mimetype": "text/x-python",
   "name": "python",
   "nbconvert_exporter": "python",
   "pygments_lexer": "ipython3",
   "version": "3.11.4"
  }
 },
 "nbformat": 4,
 "nbformat_minor": 5
}
